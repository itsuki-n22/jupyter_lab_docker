{
 "cells": [
  {
   "cell_type": "code",
   "execution_count": 9,
   "metadata": {},
   "outputs": [],
   "source": [
    "import pandas as pd"
   ]
  },
  {
   "cell_type": "code",
   "execution_count": 10,
   "metadata": {},
   "outputs": [],
   "source": [
    "df_population_data = pd.read_csv('data.csv', encoding=\"shift-jis\")"
   ]
  },
  {
   "cell_type": "code",
   "execution_count": 12,
   "metadata": {},
   "outputs": [
    {
     "data": {
      "text/plain": [
       "pandas.core.frame.DataFrame"
      ]
     },
     "execution_count": 12,
     "metadata": {},
     "output_type": "execute_result"
    }
   ],
   "source": [
    "type(df_population_data)"
   ]
  },
  {
   "cell_type": "code",
   "execution_count": 17,
   "metadata": {},
   "outputs": [],
   "source": [
    "pd.reset_option('display.max_row')"
   ]
  },
  {
   "cell_type": "code",
   "execution_count": 18,
   "metadata": {},
   "outputs": [
    {
     "data": {
      "text/html": [
       "<div>\n",
       "<style scoped>\n",
       "    .dataframe tbody tr th:only-of-type {\n",
       "        vertical-align: middle;\n",
       "    }\n",
       "\n",
       "    .dataframe tbody tr th {\n",
       "        vertical-align: top;\n",
       "    }\n",
       "\n",
       "    .dataframe thead th {\n",
       "        text-align: right;\n",
       "    }\n",
       "</style>\n",
       "<table border=\"1\" class=\"dataframe\">\n",
       "  <thead>\n",
       "    <tr style=\"text-align: right;\">\n",
       "      <th></th>\n",
       "      <th>都道府県コード</th>\n",
       "      <th>和暦（年）</th>\n",
       "      <th>西暦（年）</th>\n",
       "      <th>人口（総数）</th>\n",
       "      <th>人口（男）</th>\n",
       "      <th>人口（女）</th>\n",
       "    </tr>\n",
       "  </thead>\n",
       "  <tbody>\n",
       "    <tr>\n",
       "      <th>count</th>\n",
       "      <td>939.000000</td>\n",
       "      <td>939.000000</td>\n",
       "      <td>939.000000</td>\n",
       "      <td>9.390000e+02</td>\n",
       "      <td>9.390000e+02</td>\n",
       "      <td>9.390000e+02</td>\n",
       "    </tr>\n",
       "    <tr>\n",
       "      <th>mean</th>\n",
       "      <td>23.975506</td>\n",
       "      <td>25.005325</td>\n",
       "      <td>1967.523962</td>\n",
       "      <td>2.104324e+06</td>\n",
       "      <td>1.033620e+06</td>\n",
       "      <td>1.070703e+06</td>\n",
       "    </tr>\n",
       "    <tr>\n",
       "      <th>std</th>\n",
       "      <td>13.558310</td>\n",
       "      <td>16.937643</td>\n",
       "      <td>28.852766</td>\n",
       "      <td>1.970612e+06</td>\n",
       "      <td>9.890101e+05</td>\n",
       "      <td>9.826168e+05</td>\n",
       "    </tr>\n",
       "    <tr>\n",
       "      <th>min</th>\n",
       "      <td>1.000000</td>\n",
       "      <td>2.000000</td>\n",
       "      <td>1920.000000</td>\n",
       "      <td>4.546750e+05</td>\n",
       "      <td>2.228020e+05</td>\n",
       "      <td>2.318730e+05</td>\n",
       "    </tr>\n",
       "    <tr>\n",
       "      <th>25%</th>\n",
       "      <td>12.000000</td>\n",
       "      <td>11.000000</td>\n",
       "      <td>1942.500000</td>\n",
       "      <td>1.000186e+06</td>\n",
       "      <td>4.846355e+05</td>\n",
       "      <td>5.160885e+05</td>\n",
       "    </tr>\n",
       "    <tr>\n",
       "      <th>50%</th>\n",
       "      <td>24.000000</td>\n",
       "      <td>22.000000</td>\n",
       "      <td>1970.000000</td>\n",
       "      <td>1.461197e+06</td>\n",
       "      <td>7.026970e+05</td>\n",
       "      <td>7.583210e+05</td>\n",
       "    </tr>\n",
       "    <tr>\n",
       "      <th>75%</th>\n",
       "      <td>36.000000</td>\n",
       "      <td>37.500000</td>\n",
       "      <td>1992.500000</td>\n",
       "      <td>2.144998e+06</td>\n",
       "      <td>1.044104e+06</td>\n",
       "      <td>1.097804e+06</td>\n",
       "    </tr>\n",
       "    <tr>\n",
       "      <th>max</th>\n",
       "      <td>47.000000</td>\n",
       "      <td>60.000000</td>\n",
       "      <td>2015.000000</td>\n",
       "      <td>1.351527e+07</td>\n",
       "      <td>6.666690e+06</td>\n",
       "      <td>6.848581e+06</td>\n",
       "    </tr>\n",
       "  </tbody>\n",
       "</table>\n",
       "</div>"
      ],
      "text/plain": [
       "          都道府県コード       和暦（年）        西暦（年）        人口（総数）         人口（男）  \\\n",
       "count  939.000000  939.000000   939.000000  9.390000e+02  9.390000e+02   \n",
       "mean    23.975506   25.005325  1967.523962  2.104324e+06  1.033620e+06   \n",
       "std     13.558310   16.937643    28.852766  1.970612e+06  9.890101e+05   \n",
       "min      1.000000    2.000000  1920.000000  4.546750e+05  2.228020e+05   \n",
       "25%     12.000000   11.000000  1942.500000  1.000186e+06  4.846355e+05   \n",
       "50%     24.000000   22.000000  1970.000000  1.461197e+06  7.026970e+05   \n",
       "75%     36.000000   37.500000  1992.500000  2.144998e+06  1.044104e+06   \n",
       "max     47.000000   60.000000  2015.000000  1.351527e+07  6.666690e+06   \n",
       "\n",
       "              人口（女）  \n",
       "count  9.390000e+02  \n",
       "mean   1.070703e+06  \n",
       "std    9.826168e+05  \n",
       "min    2.318730e+05  \n",
       "25%    5.160885e+05  \n",
       "50%    7.583210e+05  \n",
       "75%    1.097804e+06  \n",
       "max    6.848581e+06  "
      ]
     },
     "execution_count": 18,
     "metadata": {},
     "output_type": "execute_result"
    }
   ],
   "source": [
    "df_population_data.describe()"
   ]
  },
  {
   "cell_type": "code",
   "execution_count": null,
   "metadata": {},
   "outputs": [],
   "source": []
  }
 ],
 "metadata": {
  "kernelspec": {
   "display_name": "Python 3",
   "language": "python",
   "name": "python3"
  },
  "language_info": {
   "codemirror_mode": {
    "name": "ipython",
    "version": 3
   },
   "file_extension": ".py",
   "mimetype": "text/x-python",
   "name": "python",
   "nbconvert_exporter": "python",
   "pygments_lexer": "ipython3",
   "version": "3.7.3"
  }
 },
 "nbformat": 4,
 "nbformat_minor": 2
}
